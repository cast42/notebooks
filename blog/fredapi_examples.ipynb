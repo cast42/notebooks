{
 "metadata": {
  "name": "",
  "signature": "sha256:c0ab64adfaf39ae4e2b17f9dffd11c9ac215a7299955e8fcb28d3094823b09da"
 },
 "nbformat": 3,
 "nbformat_minor": 0,
 "worksheets": [
  {
   "cells": [
    {
     "cell_type": "markdown",
     "metadata": {},
     "source": [
      "Import the `fredapi` module. Note that I have set my api key to the environment variable `FRED_API_KEY`. You can also pass your key explicitly."
     ]
    },
    {
     "cell_type": "code",
     "collapsed": false,
     "input": [
      "from fredapi import Fred\n",
      "fred = Fred()"
     ],
     "language": "python",
     "metadata": {},
     "outputs": [],
     "prompt_number": 1
    },
    {
     "cell_type": "markdown",
     "metadata": {},
     "source": [
      "Import `pandas` and several display and plotting options"
     ]
    },
    {
     "cell_type": "code",
     "collapsed": false,
     "input": [
      "import pandas as pd\n",
      "pd.options.display.max_colwidth = 60"
     ],
     "language": "python",
     "metadata": {},
     "outputs": [],
     "prompt_number": 2
    },
    {
     "cell_type": "code",
     "collapsed": false,
     "input": [
      "%matplotlib inline\n",
      "import matplotlib.pyplot as plt\n",
      "from IPython.core.pylabtools import figsize\n",
      "figsize(20, 5)"
     ],
     "language": "python",
     "metadata": {},
     "outputs": [],
     "prompt_number": 3
    },
    {
     "cell_type": "markdown",
     "metadata": {},
     "source": [
      "If you already know the series ID you want (say by searching on the FRED website), you can fetch data easily into a pandas `Series`"
     ]
    },
    {
     "cell_type": "code",
     "collapsed": false,
     "input": [
      "s = fred.get_series('SP500', observation_start='2014-09-02', observation_end='2014-09-05')\n",
      "s.tail()"
     ],
     "language": "python",
     "metadata": {},
     "outputs": [
      {
       "metadata": {},
       "output_type": "pyout",
       "prompt_number": 4,
       "text": [
        "2014-09-02    2002.28\n",
        "2014-09-03    2000.72\n",
        "2014-09-04    1997.65\n",
        "2014-09-05    2007.71\n",
        "dtype: float64"
       ]
      }
     ],
     "prompt_number": 4
    },
    {
     "cell_type": "code",
     "collapsed": false,
     "input": [
      "s = fred.get_series('SP500', observation_start='1/31/2014')\n",
      "s.tail()"
     ],
     "language": "python",
     "metadata": {},
     "outputs": [
      {
       "metadata": {},
       "output_type": "pyout",
       "prompt_number": 5,
       "text": [
        "2014-11-19    2048.72\n",
        "2014-11-20    2052.75\n",
        "2014-11-21    2063.50\n",
        "2014-11-24    2069.41\n",
        "2014-11-25    2067.03\n",
        "dtype: float64"
       ]
      }
     ],
     "prompt_number": 5
    },
    {
     "cell_type": "markdown",
     "metadata": {},
     "source": [
      "You can also easily fetch the meta data about any series"
     ]
    },
    {
     "cell_type": "code",
     "collapsed": false,
     "input": [
      "info = fred.get_series_info('PAYEMS')\n",
      "info['title']"
     ],
     "language": "python",
     "metadata": {},
     "outputs": [
      {
       "metadata": {},
       "output_type": "pyout",
       "prompt_number": 6,
       "text": [
        "'All Employees: Total nonfarm'"
       ]
      }
     ],
     "prompt_number": 6
    },
    {
     "cell_type": "markdown",
     "metadata": {},
     "source": [
      "You can also get a set of series IDs programmatically by release or category IDs. Several sorting options are also available. On the FRED website I know that the release ID 175 contains some personal income data. Let's fetch 5 most popular series in that set."
     ]
    },
    {
     "cell_type": "code",
     "collapsed": false,
     "input": [
      "personal_income_series = fred.search_by_release(175, limit=5, order_by='popularity', sort_order='desc')"
     ],
     "language": "python",
     "metadata": {},
     "outputs": [],
     "prompt_number": 7
    },
    {
     "cell_type": "code",
     "collapsed": false,
     "input": [
      "personal_income_series['title']"
     ],
     "language": "python",
     "metadata": {},
     "outputs": [
      {
       "metadata": {},
       "output_type": "pyout",
       "prompt_number": 8,
       "text": [
        "series id\n",
        "PCPI06075    Per Capita Personal Income in San Francisco County/city, CA\n",
        "PCPI06085           Per Capita Personal Income in Santa Clara County, CA\n",
        "PCPI11001         Per Capita Personal Income in the District of Columbia\n",
        "PCPI36061              Per Capita Personal Income in New York County, NY\n",
        "PCPI32003                 Per Capita Personal Income in Clark County, NV\n",
        "Name: title, dtype: object"
       ]
      }
     ],
     "prompt_number": 8
    },
    {
     "cell_type": "code",
     "collapsed": false,
     "input": [
      "df = {}\n",
      "df['SF'] = fred.get_series('PCPI06075')\n",
      "df['NY'] = fred.get_series('PCPI36061')\n",
      "df['DC'] = fred.get_series('PCPI11001')\n",
      "df = pd.DataFrame(df)\n",
      "df.plot()"
     ],
     "language": "python",
     "metadata": {},
     "outputs": [
      {
       "metadata": {},
       "output_type": "pyout",
       "prompt_number": 9,
       "text": [
        "<matplotlib.axes._subplots.AxesSubplot at 0x10a7341d0>"
       ]
      },
      {
       "metadata": {},
       "output_type": "display_data",
       "png": "[encoded data removed]",
       "text": [
        "<matplotlib.figure.Figure at 0x10a734bd0>"
       ]
      }
     ],
     "prompt_number": 9
    },
    {
     "cell_type": "markdown",
     "metadata": {},
     "source": [
      "You can also search by categories. On the FRED website I see that category `101` contains data about Consumer Credit."
     ]
    },
    {
     "cell_type": "code",
     "collapsed": false,
     "input": [
      "df = fred.search_by_category(101, limit=10, order_by='popularity', sort_order='desc')\n",
      "df['title']"
     ],
     "language": "python",
     "metadata": {},
     "outputs": [
      {
       "metadata": {},
       "output_type": "pyout",
       "prompt_number": 10,
       "text": [
        "series id\n",
        "TOTALSL              Total Consumer Credit Owned and Securitized, Outstanding\n",
        "TERMCBAUTO48NS    Finance Rate on Consumer Installment Loans at Commercial...\n",
        "SLOAS                        Student Loans Owned and Securitized, Outstanding\n",
        "TERMCBPER24NS     Finance Rate on Personal Loans at Commercial Banks, 24 M...\n",
        "TERMAFCNCNSA           New Car Average Finance Rate at Auto Finance Companies\n",
        "REVOLSL             Total Revolving Credit Owned and Securitized, Outstanding\n",
        "TERMCBCCALLNS     Commercial Bank Interest Rate on Credit Card Plans, All ...\n",
        "MVLOAS                 Motor Vehicle Loans Owned and Securitized, Outstanding\n",
        "NONREVSL          Total Nonrevolving Credit Owned and Securitized, Outstan...\n",
        "TERMCBCCINTNS     Commercial Bank Interest Rate on Credit Card Plans, Acco...\n",
        "Name: title, dtype: object"
       ]
      }
     ],
     "prompt_number": 10
    },
    {
     "cell_type": "markdown",
     "metadata": {},
     "source": [
      "As a example let's fetch the personal income data. Release `151` looks quite intersting"
     ]
    },
    {
     "cell_type": "code",
     "collapsed": false,
     "input": [
      "df = fred.search_by_release(151)\n",
      "df['title'].head(10)"
     ],
     "language": "python",
     "metadata": {},
     "outputs": [
      {
       "metadata": {},
       "output_type": "pyout",
       "prompt_number": 11,
       "text": [
        "series id\n",
        "AKPCPI                              Per Capita Personal Income in Alaska\n",
        "ALPCPI                             Per Capita Personal Income in Alabama\n",
        "ARPCPI                            Per Capita Personal Income in Arkansas\n",
        "AZPCPI                             Per Capita Personal Income in Arizona\n",
        "BEAFWPCPI          Per Capita Personal Income in the Far West BEA Region\n",
        "BEAGLPCPI       Per Capita Personal Income in the Great Lakes BEA Region\n",
        "BEAMEPCPI           Per Capita Personal Income in the Mideast BEA Region\n",
        "BEANEPCPI       Per Capita Personal Income in the New England BEA Region\n",
        "BEAPLPCPI            Per Capita Personal Income in the Plains BEA Region\n",
        "BEARMPCPI    Per Capita Personal Income in the Rocky Mountain BEA Region\n",
        "Name: title, dtype: object"
       ]
      }
     ],
     "prompt_number": 11
    },
    {
     "cell_type": "markdown",
     "metadata": {},
     "source": [
      "I noticed that the data is mostly organized by state, except for a few that are by BEA region. We can use `pandas` to easily select the seires we want"
     ]
    },
    {
     "cell_type": "code",
     "collapsed": false,
     "input": [
      "state_df = df[~df['title'].str.startswith('Per Capita Personal Income in the')]"
     ],
     "language": "python",
     "metadata": {},
     "outputs": [],
     "prompt_number": 12
    },
    {
     "cell_type": "code",
     "collapsed": false,
     "input": [
      "len(state_df)"
     ],
     "language": "python",
     "metadata": {},
     "outputs": [
      {
       "metadata": {},
       "output_type": "pyout",
       "prompt_number": 13,
       "text": [
        "50"
       ]
      }
     ],
     "prompt_number": 13
    },
    {
     "cell_type": "code",
     "collapsed": false,
     "input": [
      "state_df.id.str[:2]"
     ],
     "language": "python",
     "metadata": {},
     "outputs": [
      {
       "metadata": {},
       "output_type": "pyout",
       "prompt_number": 14,
       "text": [
        "series id\n",
        "AKPCPI       AK\n",
        "ALPCPI       AL\n",
        "ARPCPI       AR\n",
        "AZPCPI       AZ\n",
        "CAPCPI       CA\n",
        "COPCPI       CO\n",
        "CTPCPI       CT\n",
        "DEPCPI       DE\n",
        "FLPCPI       FL\n",
        "GAPCPI       GA\n",
        "HIPCPI       HI\n",
        "IAPCPI       IA\n",
        "IDPCPI       ID\n",
        "ILPCPI       IL\n",
        "INPCPI       IN\n",
        "KSPCPI       KS\n",
        "KYPCPI       KY\n",
        "LAPCPI       LA\n",
        "MAPCPI       MA\n",
        "MDPCPI       MD\n",
        "MEPCPI       ME\n",
        "MIPCPI       MI\n",
        "MNPCPI       MN\n",
        "MOPCPI       MO\n",
        "MSPCPI       MS\n",
        "MTPCPI       MT\n",
        "NCPCPI       NC\n",
        "NDPCPI       ND\n",
        "NEPCPI       NE\n",
        "NHPCPI       NH\n",
        "NJPCPI       NJ\n",
        "NMPCPI       NM\n",
        "NVPCPI       NV\n",
        "NYPCPI       NY\n",
        "OHPCPI       OH\n",
        "OKPCPI       OK\n",
        "ORPCPI       OR\n",
        "PAPCPI       PA\n",
        "RIPCPI       RI\n",
        "SCPCPI       SC\n",
        "SDPCPI       SD\n",
        "TNPCPI       TN\n",
        "TXPCPI       TX\n",
        "UTPCPI       UT\n",
        "VAPCPI       VA\n",
        "VTPCPI       VT\n",
        "WAPCPI       WA\n",
        "WIPCPI       WI\n",
        "WVPCPI       WV\n",
        "WYPCPI       WY\n",
        "Name: id, dtype: object"
       ]
      }
     ],
     "prompt_number": 14
    },
    {
     "cell_type": "markdown",
     "metadata": {},
     "source": [
      "looks good, we got the data series for all 50 states here"
     ]
    },
    {
     "cell_type": "code",
     "collapsed": false,
     "input": [
      "income_by_state = {}\n",
      "for series_id in state_df.index:\n",
      "    income_by_state[series_id[:2]] = fred.get_series(series_id)"
     ],
     "language": "python",
     "metadata": {},
     "outputs": [],
     "prompt_number": 15
    },
    {
     "cell_type": "code",
     "collapsed": false,
     "input": [
      "income_by_state = pd.DataFrame(income_by_state)"
     ],
     "language": "python",
     "metadata": {},
     "outputs": [],
     "prompt_number": 16
    },
    {
     "cell_type": "code",
     "collapsed": false,
     "input": [
      "income_by_state.ix[-1].plot(kind='bar')\n",
      "plt.title('Per Capita Personal Income by State')"
     ],
     "language": "python",
     "metadata": {},
     "outputs": [
      {
       "metadata": {},
       "output_type": "pyout",
       "prompt_number": 17,
       "text": [
        "<matplotlib.text.Text at 0x10bcf0a10>"
       ]
      },
      {
       "metadata": {},
       "output_type": "display_data",
       "png": "[encoded data removed]",
       "text": [
        "<matplotlib.figure.Figure at 0x10a769b90>"
       ]
      }
     ],
     "prompt_number": 17
    }
   ],
   "metadata": {}
  }
 ]
}