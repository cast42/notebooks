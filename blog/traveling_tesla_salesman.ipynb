{
 "cells": [
  {
   "cell_type": "markdown",
   "metadata": {},
   "source": [
    "## Traveling Salesman Problem\n",
    "\n",
    "The [Traveling Salesman Problem](http://en.wikipedia.org/wiki/Travelling_salesman_problem) (TSP) is quite an interesting math problem. It simply asks: Given a list of cities and the distances between them, what is the shortest possible path that visits each city exactly once and returns to the origin city?\n",
    "\n",
    "It is a very simple problem to describe and yet very difficult to solve. TSP is known to be [NP-hard](http://en.wikipedia.org/wiki/NP-hard) and a brute-force solution can be incredibly expensive computationally. Even with just $200$ cities, with the brute-force method you have this many possible permutations to check:"
   ]
  },
  {
   "cell_type": "code",
   "execution_count": 1,
   "metadata": {
    "collapsed": false
   },
   "outputs": [
    {
     "data": {
      "text/plain": [
       "788657867364790503552363213932185062295135977687173263294742533244359449963403342920304284011984623904177212138919638830257642790242637105061926624952829931113462857270763317237396988943922445621451664240254033291864131227428294853277524242407573903240321257405579568660226031904170324062351700858796178922222789623703897374720000000000000000000000000000000000000000000000000"
      ]
     },
     "execution_count": 1,
     "metadata": {},
     "output_type": "execute_result"
    }
   ],
   "source": [
    "import math\n",
    "math.factorial(200)"
   ]
  },
  {
   "cell_type": "markdown",
   "metadata": {},
   "source": [
    "That's actually **a lot more** than the total number of atoms in the universe!\n",
    "\n",
    "Here's an obligatory xkcd for this:"
   ]
  },
  {
   "cell_type": "code",
   "execution_count": 2,
   "metadata": {
    "collapsed": false
   },
   "outputs": [
    {
     "data": {
      "text/html": [
       "<img src=\"http://imgs.xkcd.com/comics/travelling_salesman_problem.png\"/>"
      ],
      "text/plain": [
       "<IPython.core.display.Image object>"
      ]
     },
     "execution_count": 2,
     "metadata": {},
     "output_type": "execute_result"
    }
   ],
   "source": [
    "from IPython.display import Image\n",
    "Image(url='http://imgs.xkcd.com/comics/travelling_salesman_problem.png') "
   ]
  },
  {
   "cell_type": "markdown",
   "metadata": {},
   "source": [
    "## Tesla Superchargers\n",
    "\n",
    "To make the TSP even more exciting, let's make the salesman visit the awesome [Tesla Superchargers](http://www.teslamotors.com/supercharger). As of this writing there are $194$ superchargers in the US, and that number is quickly growing. Let's look at what the optimal path looks like for going through these superchargers as a concrete TSP example.\n"
   ]
  },
  {
   "cell_type": "markdown",
   "metadata": {},
   "source": [
    "## Optimal Path for Supercharger Traveling\n",
    "\n",
    "I'll go through how I obtained the results in the later sections, but first I'd like to present the optimal path that I found below. You can toggle the display for the superchargers and the optimal path by clicking on the checkboxes.  "
   ]
  },
  {
   "cell_type": "markdown",
   "metadata": {},
   "source": [
    "The optimal path looks pretty awesome, right?"
   ]
  },
  {
   "cell_type": "markdown",
   "metadata": {},
   "source": [
    "## Solving the TSP\n",
    "\n",
    "There are numerous heuristics and approximate solutions for TSP and that is on its own a vast topic. An approximate solution called [Christofides's algorithm](http://en.wikipedia.org/wiki/Christofides_algorithm) is provably within $1.5$ times of the optimum. One can also use [simulated annealing](http://en.wikipedia.org/wiki/Simulated_annealing) or [genetic algorithms](http://en.wikipedia.org/wiki/Genetic_algorithm) to find solutions that are very close to optimal in most cases.\n",
    "\n",
    "But here I'm most interested in finding the exact optimum, since we don't have that many nodes, and the distance metric (symmetric geometric distance) is relatively simple. After surveying the literature and searching online, I found the [Concorde](http://www.math.uwaterloo.ca/tsp/concorde/DOC/index.html) TSP solver that can find the exact optimal path (instead of approximations) using [branch-and-bound algorithms](http://en.wikipedia.org/wiki/Branch_and_bound). The basic idea is that when the algorithm branches out to search for the optimum, many of the permutations can actually be safely cut short if it is impossible for a branch to result in a value better than a known better solution. This kind of method has been shown to be the most effective for finding the exact optimum for TSP."
   ]
  },
  {
   "cell_type": "markdown",
   "metadata": {},
   "source": [
    "### Fetching Coordinates\n",
    "\n",
    "So first we need to find all the supercharger locations. One possible way to do that is to get a list of addresses for them and then [geocode](http://en.wikipedia.org/wiki/Geocoding) the addresses into coordinates. However it turns out that some of the superchargers are in remote places that aren't easily specified by a street address. They are more conveniently specified by latitudes and longitudes.\n",
    "\n",
    "Luckily the Tesla website contains references to coordinates of all the supercharger locations. We can use simple regular expressions and `BeautifulSoup` to parse the pages."
   ]
  },
  {
   "cell_type": "code",
   "execution_count": 3,
   "metadata": {
    "collapsed": true
   },
   "outputs": [],
   "source": [
    "%matplotlib inline\n",
    "import matplotlib.pyplot as plt\n",
    "from IPython.core.pylabtools import figsize\n",
    "figsize(15, 5)"
   ]
  },
  {
   "cell_type": "code",
   "execution_count": 4,
   "metadata": {
    "collapsed": true
   },
   "outputs": [],
   "source": [
    "from bs4 import BeautifulSoup\n",
    "import re\n",
    "import requests\n",
    "import numpy as np\n",
    "import pandas as pd"
   ]
  },
  {
   "cell_type": "code",
   "execution_count": 5,
   "metadata": {
    "collapsed": true
   },
   "outputs": [],
   "source": [
    "# get the list of superchargers in the US\n",
    "url = 'http://www.teslamotors.com/findus/list/superchargers/United+States'\n",
    "rv = requests.get(url)\n",
    "content = rv.text"
   ]
  },
  {
   "cell_type": "code",
   "execution_count": 6,
   "metadata": {
    "collapsed": true
   },
   "outputs": [],
   "source": [
    "# get link to each supercharger, each page contains the supercharger's coordinates\n",
    "sc_page_urls = re.findall('(/findus/location/supercharger/\\w+)', content)"
   ]
  },
  {
   "cell_type": "code",
   "execution_count": 7,
   "metadata": {
    "collapsed": false,
    "scrolled": false
   },
   "outputs": [],
   "source": [
    "# get the cooridnates (latitude, longitude) for each supercharger\n",
    "sc_names = []\n",
    "sc_coors = {}\n",
    "for sc_page_url in sc_page_urls:\n",
    "    url = 'http://www.teslamotors.com' + sc_page_url\n",
    "    rv = requests.get(url)\n",
    "    soup = BeautifulSoup(rv.text)\n",
    "    sc_name = soup.find('h1').text\n",
    "    sc_names.append(sc_name)\n",
    "    directions_link = soup.find('a', {'class': 'directions-link'})['href']\n",
    "    lat, lng = directions_link.split('=')[-1].split(',')\n",
    "    lat, lng = float(lat), float(lng)\n",
    "    sc_coors[sc_name] = {'lat': lat, 'lng': lng}"
   ]
  },
  {
   "cell_type": "code",
   "execution_count": 8,
   "metadata": {
    "collapsed": false
   },
   "outputs": [
    {
     "data": {
      "text/html": [
       "<div style=\"max-height:1000px;max-width:1500px;overflow:auto;\">\n",
       "<table border=\"1\" class=\"dataframe\">\n",
       "  <thead>\n",
       "    <tr style=\"text-align: right;\">\n",
       "      <th></th>\n",
       "      <th>lat</th>\n",
       "      <th>lng</th>\n",
       "    </tr>\n",
       "  </thead>\n",
       "  <tbody>\n",
       "    <tr>\n",
       "      <th>Auburn Alabama Supercharger</th>\n",
       "      <td>32.627837</td>\n",
       "      <td>-85.445105</td>\n",
       "    </tr>\n",
       "    <tr>\n",
       "      <th>Greenville Supercharger</th>\n",
       "      <td>31.855989</td>\n",
       "      <td>-86.635765</td>\n",
       "    </tr>\n",
       "    <tr>\n",
       "      <th>Mobile Supercharger</th>\n",
       "      <td>30.671556</td>\n",
       "      <td>-88.118644</td>\n",
       "    </tr>\n",
       "    <tr>\n",
       "      <th>Buckeye Supercharger</th>\n",
       "      <td>33.443011</td>\n",
       "      <td>-112.556876</td>\n",
       "    </tr>\n",
       "    <tr>\n",
       "      <th>Casa Grande Supercharger</th>\n",
       "      <td>32.878773</td>\n",
       "      <td>-111.681694</td>\n",
       "    </tr>\n",
       "  </tbody>\n",
       "</table>\n",
       "</div>"
      ],
      "text/plain": [
       "                                   lat         lng\n",
       "Auburn Alabama Supercharger  32.627837  -85.445105\n",
       "Greenville Supercharger      31.855989  -86.635765\n",
       "Mobile Supercharger          30.671556  -88.118644\n",
       "Buckeye Supercharger         33.443011 -112.556876\n",
       "Casa Grande Supercharger     32.878773 -111.681694"
      ]
     },
     "execution_count": 8,
     "metadata": {},
     "output_type": "execute_result"
    }
   ],
   "source": [
    "coords = pd.DataFrame.from_dict(sc_coors).T.reindex(sc_names)\n",
    "coords.head()"
   ]
  },
  {
   "cell_type": "markdown",
   "metadata": {},
   "source": [
    "### Computing Geodesic Distances"
   ]
  },
  {
   "cell_type": "markdown",
   "metadata": {},
   "source": [
    "Now that we've gather all the coordinates, we can start to compute distances. Here is a function that computes the distance between two points on earth specified by latitude-longitude pairs. This function is based on the code on John D. Cook's excellent [blog post](http://www.johndcook.com/blog/python_longitude_latitude/) related to this topic."
   ]
  },
  {
   "cell_type": "code",
   "execution_count": 9,
   "metadata": {
    "collapsed": true
   },
   "outputs": [],
   "source": [
    "def distance_on_earth(lat1, long1, lat2, long2, radius=6378.388):\n",
    "    \"\"\"\n",
    "    Compute distance between two points on earth specified by latitude/longitude.\n",
    "    The earth is assumed to be a perfect sphere of given radius. The radius defaults\n",
    "    to 6378.388 kilometers. To convert to miles, divide by 1.60934\n",
    "    \n",
    "    Reference\n",
    "    ---------\n",
    "    Adopted from John D. Cook's blog post: \n",
    "    http://www.johndcook.com/blog/python_longitude_latitude/\n",
    "    \"\"\"\n",
    "    # Convert latitude and longitude to spherical coordinates in radians.\n",
    "    degrees_to_radians = np.pi / 180.0\n",
    "\n",
    "    # phi = 90 - latitude\n",
    "    phi1 = (90.0 - lat1) * degrees_to_radians\n",
    "    phi2 = (90.0 - lat2) * degrees_to_radians\n",
    "\n",
    "    # theta = longitude\n",
    "    theta1 = long1 * degrees_to_radians\n",
    "    theta2 = long2 * degrees_to_radians\n",
    "         \n",
    "    # Compute spherical distance from spherical coordinates.     \n",
    "    cos = (np.sin(phi1) * np.sin(phi2)* np.cos(theta1 - theta2) + \n",
    "           np.cos(phi1) * np.cos(phi2))\n",
    "    arc = np.arccos(cos)\n",
    "    rv = arc * radius\n",
    "    return rv"
   ]
  },
  {
   "cell_type": "markdown",
   "metadata": {},
   "source": [
    "Note that we are making the simplifying assumptions that the Earth is a perfect sphere, and that the distance is a simple Euclidean distance, instead of a driving distance. Although one can certainly plug in a different distance metric and follow the same procedure outlined here.\n",
    "\n",
    "We can now compute the distances between all pairs of supercharger locations:"
   ]
  },
  {
   "cell_type": "code",
   "execution_count": 10,
   "metadata": {
    "collapsed": false
   },
   "outputs": [],
   "source": [
    "# get distances between all pairs\n",
    "mile_in_km = 1.60934\n",
    "distances = {}\n",
    "for i in range(len(sc_names)):\n",
    "    a = sc_names[i]\n",
    "    distances[a] = {}\n",
    "    for j in range(len(sc_names)):\n",
    "        b = sc_names[j]\n",
    "        if j == i:\n",
    "            distances[a][b] = 0.\n",
    "        elif j > i:\n",
    "            distances[a][b] = distance_on_earth(coords.ix[a, 'lat'],\n",
    "                                                coords.ix[a, 'lng'],\n",
    "                                                coords.ix[b, 'lat'],\n",
    "                                                coords.ix[b, 'lng'])\n",
    "        else:\n",
    "            distances[a][b] = distances[b][a]\n",
    "distances = pd.DataFrame(distances) / mile_in_km"
   ]
  },
  {
   "cell_type": "markdown",
   "metadata": {},
   "source": [
    "One interesting thing to note is that, for each supercharger in the US, on average there's another one less than $60$ miles away. That's pretty nice. "
   ]
  },
  {
   "cell_type": "code",
   "execution_count": 11,
   "metadata": {
    "collapsed": false
   },
   "outputs": [
    {
     "data": {
      "text/plain": [
       "<matplotlib.text.Text at 0x1005b34e0>"
      ]
     },
     "execution_count": 11,
     "metadata": {},
     "output_type": "execute_result"
    },
    {
     "data": {
      "image/png": "[encoded data removed]",
      "text/plain": [
       "<matplotlib.figure.Figure at 0x108b46ef0>"
      ]
     },
     "metadata": {},
     "output_type": "display_data"
    }
   ],
   "source": [
    "closest_distances = distances[distances > 0].min()\n",
    "ax = closest_distances.hist(bins=25)\n",
    "ax.set_title('histogram of distances to closest superchargers')\n",
    "ax.set_ylabel('number of superchargers')\n",
    "ax.set_xlabel('miles')"
   ]
  },
  {
   "cell_type": "code",
   "execution_count": 12,
   "metadata": {
    "collapsed": false
   },
   "outputs": [
    {
     "data": {
      "text/plain": [
       "count    194.000000\n",
       "mean      59.145575\n",
       "std       31.628988\n",
       "min        0.081425\n",
       "25%       39.773550\n",
       "50%       59.003213\n",
       "75%       84.301406\n",
       "max      150.610963\n",
       "dtype: float64"
      ]
     },
     "execution_count": 12,
     "metadata": {},
     "output_type": "execute_result"
    }
   ],
   "source": [
    "closest_distances.describe()"
   ]
  },
  {
   "cell_type": "markdown",
   "metadata": {},
   "source": [
    "### Using the Concorde TSP Solver\n",
    "\n",
    "Now we are ready to use the [Concorde](http://www.math.uwaterloo.ca/tsp/concorde/DOC/index.html) TSP solver. To use Concorde, you'll need to download a few things and make sure you have a working C compiler. You can find the [detailed steps here](http://davidsjohnson.net/TSPcourse/mac-install-concorde.txt). I compiled it on OSX Yosemite without issues.\n",
    "\n",
    "Information about the input/output files for Concorde can be found [here](http://comopt.ifi.uni-heidelberg.de/software/TSPLIB95/). In our particular case, the input file to Concorde can be generated as follows:"
   ]
  },
  {
   "cell_type": "code",
   "execution_count": 13,
   "metadata": {
    "collapsed": false
   },
   "outputs": [],
   "source": [
    "# create input file for Concorde TSP solver\n",
    "output = ''\n",
    "for sc_id,sc_name in enumerate(sc_names):\n",
    "    output += '%d %f %f\\n' % (sc_id, sc_coors[sc_name]['lat'], sc_coors[sc_name]['lng'])\n",
    "\n",
    "header = \"\"\"NAME : TTS\n",
    "COMMENT : Traveling Tesla Salesman\n",
    "TYPE : TSP\n",
    "DIMENSION : %d\n",
    "EDGE_WEIGHT_TYPE : GEO\n",
    "NODE_COORD_SECTION\n",
    "\"\"\" % sc_id\n",
    "\n",
    "output_file = open('sc.tsp', 'w')\n",
    "output_file.write(header)\n",
    "_ = output_file.write(output)\n",
    "output_file.close()"
   ]
  },
  {
   "cell_type": "markdown",
   "metadata": {},
   "source": [
    "This creates a `.tsp` file that the `concorde` executable can process directly, and it outputs the solution in a `.sol` file in the same directory where the executable is:"
   ]
  },
  {
   "cell_type": "code",
   "execution_count": 14,
   "metadata": {
    "collapsed": false
   },
   "outputs": [],
   "source": [
    "# after running the Concorde executable, parse the output file\n",
    "solution = []\n",
    "f = open('../../../../../TSP/concorde/TSP/sc.sol', 'r')\n",
    "for line in f.readlines():\n",
    "    tokens = line.split()\n",
    "    solution += [int(c) for c in tokens]\n",
    "\n",
    "assert solution[0] == len(sc_names)\n",
    "solution = solution[1:]  # first number is just the dimension\n",
    "assert len(solution) == len(sc_names)"
   ]
  },
  {
   "cell_type": "markdown",
   "metadata": {},
   "source": [
    "Now we have the optimal path!"
   ]
  },
  {
   "cell_type": "code",
   "execution_count": 15,
   "metadata": {
    "collapsed": false,
    "scrolled": true
   },
   "outputs": [
    {
     "data": {
      "text/plain": [
       "0    Auburn Alabama Supercharger\n",
       "1       Chattanooga Supercharger\n",
       "2           Atlanta Supercharger\n",
       "3                Atlanta-Decatur\n",
       "4     Macon Georgia Supercharger\n",
       "dtype: object"
      ]
     },
     "execution_count": 15,
     "metadata": {},
     "output_type": "execute_result"
    }
   ],
   "source": [
    "optimal_path = []\n",
    "for solution_id in solution:\n",
    "    # sc_name = sc_names[solution_id]\n",
    "    optimal_path.append(sc_names[solution_id])\n",
    "\n",
    "# connect back to the starting node\n",
    "optimal_path.append(sc_names[solution[0]])\n",
    "optimal_path = pd.Series(optimal_path)\n",
    "optimal_path.head()"
   ]
  },
  {
   "cell_type": "code",
   "execution_count": 16,
   "metadata": {
    "collapsed": false
   },
   "outputs": [
    {
     "data": {
      "text/plain": [
       "190         Baton Rouge Supercharger\n",
       "191              Mobile Supercharger\n",
       "192    DeFuniak Springs Supercharger\n",
       "193          Greenville Supercharger\n",
       "194      Auburn Alabama Supercharger\n",
       "dtype: object"
      ]
     },
     "execution_count": 16,
     "metadata": {},
     "output_type": "execute_result"
    }
   ],
   "source": [
    "optimal_path.tail()"
   ]
  },
  {
   "cell_type": "markdown",
   "metadata": {},
   "source": [
    "We can also easily find the total length of the path:"
   ]
  },
  {
   "cell_type": "code",
   "execution_count": 17,
   "metadata": {
    "collapsed": false
   },
   "outputs": [
    {
     "data": {
      "text/plain": [
       "15917.611537070159"
      ]
     },
     "execution_count": 17,
     "metadata": {},
     "output_type": "execute_result"
    }
   ],
   "source": [
    "# compute total distance in optimal path\n",
    "total = 0\n",
    "for i in range(len(optimal_path) - 1):\n",
    "    total += distances.ix[optimal_path[i], optimal_path[i + 1]]\n",
    "total"
   ]
  },
  {
   "cell_type": "markdown",
   "metadata": {
    "collapsed": false
   },
   "source": [
    "So the total is a bit less than $16,000$ miles, not an easy trip for the salesman!\n",
    "\n",
    "Finally, we can combine all the results and use the [Google Maps API](https://developers.google.com/maps/documentation/javascript/) to create the visualization in the earlier section. "
   ]
  }
 ],
 "metadata": {
  "kernelspec": {
   "display_name": "Python 3",
   "language": "python",
   "name": "python3"
  },
  "language_info": {
   "codemirror_mode": {
    "name": "ipython",
    "version": 3
   },
   "file_extension": ".py",
   "mimetype": "text/x-python",
   "name": "python",
   "nbconvert_exporter": "python",
   "pygments_lexer": "ipython3",
   "version": "3.4.3"
  }
 },
 "nbformat": 4,
 "nbformat_minor": 0
}
