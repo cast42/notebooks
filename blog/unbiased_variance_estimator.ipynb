{
 "cells": [
  {
   "cell_type": "markdown",
   "metadata": {},
   "source": [
    "## Variance Estimation "
   ]
  },
  {
   "cell_type": "markdown",
   "metadata": {},
   "source": [
    "In statistics we know that the mean and variance of a population $Y$ are defined to be:\n",
    "\n",
    "\\begin{equation}\n",
    "\\left\\{\n",
    "\\begin{aligned}\n",
    "    \\text{Mean}(Y) &= \\mu = \\frac{1}{N} \\sum_{i=1}^{N} Y_i \\\\\n",
    "    \\text{Var}(Y) &= \\sigma^2 = \\frac{1}{N} \\sum_{i=1}^{N} (Y_i - \\mu)^2 \\\\\n",
    "\\end{aligned}\n",
    "\\right.\n",
    "\\end{equation}\n",
    "\n",
    "where $N$ is the size of the population.\n",
    "<!-- PELICAN_END_SUMMARY -->"
   ]
  },
  {
   "cell_type": "markdown",
   "metadata": {},
   "source": [
    "Given the population $Y$, we can draw a sample $X$ and compute statistics for $X$:\n",
    "\n",
    "\\begin{equation}\n",
    "\\left\\{\n",
    "\\begin{aligned}\n",
    "    \\text{Mean}(X) &= \\bar{X} = \\frac{1}{n} \\sum_{j=1}^{n} X_j \\\\\n",
    "    \\text{Var}(X) &= s^2 = \\frac{1}{n - 1} \\sum_{j=1}^{n} (X_j - \\bar{X})^2 \\\\\n",
    "\\end{aligned}\n",
    "\\right.\n",
    "\\end{equation}\n",
    "\n",
    "where lowercase $n$ is the size of the sample, typically a much smaller number than $N$. One detail that is often not clearly explained in introductory statistics is why we should divide by $n - 1$ instead of $n$ in the calculation for the sample variance."
   ]
  },
  {
   "cell_type": "markdown",
   "metadata": {},
   "source": [
    "## Why divide by n - 1?"
   ]
  },
  {
   "cell_type": "markdown",
   "metadata": {},
   "source": [
    "It turns out that we should divide by $n - 1$ because dividing by $n$ would give us a **biased estimator** of the population variance. Let's look at a concrete example before diving into the math for why. Let's say we have a population of 100,000 data points. These can represent, for instance, a movie rating for each of 100,000 people.  "
   ]
  },
  {
   "cell_type": "code",
   "execution_count": 1,
   "metadata": {
    "collapsed": true
   },
   "outputs": [],
   "source": [
    "%matplotlib inline\n",
    "import matplotlib.pyplot as plt\n",
    "from IPython.core.pylabtools import figsize\n",
    "figsize(15, 5)"
   ]
  },
  {
   "cell_type": "code",
   "execution_count": 2,
   "metadata": {
    "collapsed": true
   },
   "outputs": [],
   "source": [
    "import pandas as pd\n",
    "import numpy as np"
   ]
  },
  {
   "cell_type": "code",
   "execution_count": 3,
   "metadata": {
    "collapsed": true
   },
   "outputs": [],
   "source": [
    "np.random.seed(42)"
   ]
  },
  {
   "cell_type": "code",
   "execution_count": 4,
   "metadata": {
    "collapsed": true
   },
   "outputs": [],
   "source": [
    "N = 100000  # size of population"
   ]
  },
  {
   "cell_type": "code",
   "execution_count": 5,
   "metadata": {
    "collapsed": false
   },
   "outputs": [],
   "source": [
    "population = pd.Series(np.random.randint(1, 11, N))"
   ]
  },
  {
   "cell_type": "markdown",
   "metadata": {},
   "source": [
    "We can easily calculate the **population mean** and **population variance**:"
   ]
  },
  {
   "cell_type": "code",
   "execution_count": 6,
   "metadata": {
    "collapsed": false
   },
   "outputs": [
    {
     "data": {
      "text/plain": [
       "5.5155599999999998"
      ]
     },
     "execution_count": 6,
     "metadata": {},
     "output_type": "execute_result"
    }
   ],
   "source": [
    "population.mean()"
   ]
  },
  {
   "cell_type": "code",
   "execution_count": 7,
   "metadata": {
    "collapsed": false
   },
   "outputs": [
    {
     "data": {
      "text/plain": [
       "8.2592178864000001"
      ]
     },
     "execution_count": 7,
     "metadata": {},
     "output_type": "execute_result"
    }
   ],
   "source": [
    "((population - population.mean()) ** 2).sum() / N"
   ]
  },
  {
   "cell_type": "markdown",
   "metadata": {},
   "source": [
    "Note that we are dividing by $N$ in the variance calculation, also that in `numpy` or `pandas` this is the same as simply using the method `var` with `ddof=0`"
   ]
  },
  {
   "cell_type": "code",
   "execution_count": 8,
   "metadata": {
    "collapsed": false
   },
   "outputs": [
    {
     "data": {
      "text/plain": [
       "8.2592178864000001"
      ]
     },
     "execution_count": 8,
     "metadata": {},
     "output_type": "execute_result"
    }
   ],
   "source": [
    "population.var(ddof=0)"
   ]
  },
  {
   "cell_type": "markdown",
   "metadata": {},
   "source": [
    "where `ddof=0` means to divide by $N$, and `ddof=1` means to divide by $N - 1$."
   ]
  },
  {
   "cell_type": "markdown",
   "metadata": {},
   "source": [
    "## Simulation"
   ]
  },
  {
   "cell_type": "markdown",
   "metadata": {},
   "source": [
    "As usual in statistics, the population parameters are often unknown. But we can estimate them by drawing samples from the population. Here we are drawing a random sample of size $30$. As of version `0.16.1`, `pandas` has a convenient `Series.sample()` function for this:"
   ]
  },
  {
   "cell_type": "code",
   "execution_count": 9,
   "metadata": {
    "collapsed": true
   },
   "outputs": [],
   "source": [
    "samples = {}\n",
    "n = 30  # size of each sample\n",
    "num_samples = 500  # we are drawing 500 samples, each with size n\n",
    "for i in range(num_samples):\n",
    "    samples[i] = population.sample(n).reset_index(drop=True)"
   ]
  },
  {
   "cell_type": "code",
   "execution_count": 10,
   "metadata": {
    "collapsed": false
   },
   "outputs": [
    {
     "data": {
      "text/html": [
       "<div style=\"max-height:1000px;max-width:1500px;overflow:auto;\">\n",
       "<table border=\"1\" class=\"dataframe\">\n",
       "  <thead>\n",
       "    <tr style=\"text-align: right;\">\n",
       "      <th></th>\n",
       "      <th>0</th>\n",
       "      <th>1</th>\n",
       "      <th>2</th>\n",
       "      <th>3</th>\n",
       "      <th>4</th>\n",
       "      <th>5</th>\n",
       "      <th>6</th>\n",
       "      <th>7</th>\n",
       "      <th>8</th>\n",
       "      <th>9</th>\n",
       "      <th>...</th>\n",
       "      <th>20</th>\n",
       "      <th>21</th>\n",
       "      <th>22</th>\n",
       "      <th>23</th>\n",
       "      <th>24</th>\n",
       "      <th>25</th>\n",
       "      <th>26</th>\n",
       "      <th>27</th>\n",
       "      <th>28</th>\n",
       "      <th>29</th>\n",
       "    </tr>\n",
       "  </thead>\n",
       "  <tbody>\n",
       "    <tr>\n",
       "      <th>495</th>\n",
       "      <td>4</td>\n",
       "      <td>6</td>\n",
       "      <td>3</td>\n",
       "      <td>7</td>\n",
       "      <td>9</td>\n",
       "      <td>1</td>\n",
       "      <td>3</td>\n",
       "      <td>6</td>\n",
       "      <td>8</td>\n",
       "      <td>7</td>\n",
       "      <td>...</td>\n",
       "      <td>2</td>\n",
       "      <td>9</td>\n",
       "      <td>4</td>\n",
       "      <td>5</td>\n",
       "      <td>3</td>\n",
       "      <td>1</td>\n",
       "      <td>3</td>\n",
       "      <td>5</td>\n",
       "      <td>9</td>\n",
       "      <td>6</td>\n",
       "    </tr>\n",
       "    <tr>\n",
       "      <th>496</th>\n",
       "      <td>8</td>\n",
       "      <td>3</td>\n",
       "      <td>5</td>\n",
       "      <td>4</td>\n",
       "      <td>7</td>\n",
       "      <td>6</td>\n",
       "      <td>10</td>\n",
       "      <td>4</td>\n",
       "      <td>1</td>\n",
       "      <td>5</td>\n",
       "      <td>...</td>\n",
       "      <td>5</td>\n",
       "      <td>8</td>\n",
       "      <td>1</td>\n",
       "      <td>5</td>\n",
       "      <td>3</td>\n",
       "      <td>10</td>\n",
       "      <td>2</td>\n",
       "      <td>5</td>\n",
       "      <td>9</td>\n",
       "      <td>2</td>\n",
       "    </tr>\n",
       "    <tr>\n",
       "      <th>497</th>\n",
       "      <td>8</td>\n",
       "      <td>4</td>\n",
       "      <td>7</td>\n",
       "      <td>5</td>\n",
       "      <td>3</td>\n",
       "      <td>10</td>\n",
       "      <td>5</td>\n",
       "      <td>7</td>\n",
       "      <td>9</td>\n",
       "      <td>2</td>\n",
       "      <td>...</td>\n",
       "      <td>6</td>\n",
       "      <td>9</td>\n",
       "      <td>10</td>\n",
       "      <td>3</td>\n",
       "      <td>10</td>\n",
       "      <td>3</td>\n",
       "      <td>2</td>\n",
       "      <td>6</td>\n",
       "      <td>5</td>\n",
       "      <td>8</td>\n",
       "    </tr>\n",
       "    <tr>\n",
       "      <th>498</th>\n",
       "      <td>3</td>\n",
       "      <td>3</td>\n",
       "      <td>6</td>\n",
       "      <td>6</td>\n",
       "      <td>1</td>\n",
       "      <td>4</td>\n",
       "      <td>6</td>\n",
       "      <td>8</td>\n",
       "      <td>10</td>\n",
       "      <td>8</td>\n",
       "      <td>...</td>\n",
       "      <td>8</td>\n",
       "      <td>1</td>\n",
       "      <td>3</td>\n",
       "      <td>8</td>\n",
       "      <td>3</td>\n",
       "      <td>6</td>\n",
       "      <td>4</td>\n",
       "      <td>9</td>\n",
       "      <td>7</td>\n",
       "      <td>3</td>\n",
       "    </tr>\n",
       "    <tr>\n",
       "      <th>499</th>\n",
       "      <td>10</td>\n",
       "      <td>5</td>\n",
       "      <td>1</td>\n",
       "      <td>3</td>\n",
       "      <td>10</td>\n",
       "      <td>7</td>\n",
       "      <td>3</td>\n",
       "      <td>6</td>\n",
       "      <td>8</td>\n",
       "      <td>9</td>\n",
       "      <td>...</td>\n",
       "      <td>7</td>\n",
       "      <td>7</td>\n",
       "      <td>7</td>\n",
       "      <td>4</td>\n",
       "      <td>9</td>\n",
       "      <td>6</td>\n",
       "      <td>7</td>\n",
       "      <td>8</td>\n",
       "      <td>9</td>\n",
       "      <td>2</td>\n",
       "    </tr>\n",
       "  </tbody>\n",
       "</table>\n",
       "<p>5 rows × 30 columns</p>\n",
       "</div>"
      ],
      "text/plain": [
       "     0   1   2   3   4   5   6   7   8   9  ...  20  21  22  23  24  25  26  \\\n",
       "495   4   6   3   7   9   1   3   6   8   7 ...   2   9   4   5   3   1   3   \n",
       "496   8   3   5   4   7   6  10   4   1   5 ...   5   8   1   5   3  10   2   \n",
       "497   8   4   7   5   3  10   5   7   9   2 ...   6   9  10   3  10   3   2   \n",
       "498   3   3   6   6   1   4   6   8  10   8 ...   8   1   3   8   3   6   4   \n",
       "499  10   5   1   3  10   7   3   6   8   9 ...   7   7   7   4   9   6   7   \n",
       "\n",
       "     27  28  29  \n",
       "495   5   9   6  \n",
       "496   5   9   2  \n",
       "497   6   5   8  \n",
       "498   9   7   3  \n",
       "499   8   9   2  \n",
       "\n",
       "[5 rows x 30 columns]"
      ]
     },
     "execution_count": 10,
     "metadata": {},
     "output_type": "execute_result"
    }
   ],
   "source": [
    "samples = pd.DataFrame(samples)\n",
    "samples.T.tail()"
   ]
  },
  {
   "cell_type": "markdown",
   "metadata": {},
   "source": [
    "As we expect, if we average all the sample means we can see that the it is a good estimate for the true population mean:"
   ]
  },
  {
   "cell_type": "code",
   "execution_count": 11,
   "metadata": {
    "collapsed": false
   },
   "outputs": [
    {
     "data": {
      "text/plain": [
       "<matplotlib.axes._subplots.AxesSubplot at 0x107a29198>"
      ]
     },
     "execution_count": 11,
     "metadata": {},
     "output_type": "execute_result"
    },
    {
     "data": {
      "image/png": "[encoded data removed]",
      "text/plain": [
       "<matplotlib.figure.Figure at 0x107a29080>"
      ]
     },
     "metadata": {},
     "output_type": "display_data"
    }
   ],
   "source": [
    "df = pd.DataFrame({'estimated mean': pd.expanding_mean(samples.mean()),\n",
    "                   'actual population mean': pd.Series(population.mean(), index=samples.columns)})\n",
    "df.plot(ylim=(4.5, 6.5))"
   ]
  },
  {
   "cell_type": "markdown",
   "metadata": {},
   "source": [
    "Now let's compare the results we would get by using the **biased estimator** (dividing by $n$) and the **unbiased estimator** (dividing by $n-1$)"
   ]
  },
  {
   "cell_type": "code",
   "execution_count": 12,
   "metadata": {
    "collapsed": false
   },
   "outputs": [
    {
     "data": {
      "text/plain": [
       "<matplotlib.axes._subplots.AxesSubplot at 0x107a292b0>"
      ]
     },
     "execution_count": 12,
     "metadata": {},
     "output_type": "execute_result"
    },
    {
     "data": {
      "image/png": "[encoded data removed]",
      "text/plain": [
       "<matplotlib.figure.Figure at 0x107d64518>"
      ]
     },
     "metadata": {},
     "output_type": "display_data"
    }
   ],
   "source": [
    "df = pd.DataFrame({'biased var estimate (divide by n)': pd.expanding_mean(samples.var(ddof=0)),\n",
    "                   'unbiased var estimate (divide by n - 1)': pd.expanding_mean(samples.var(ddof=1)),\n",
    "                   'actual population var': pd.Series(population.var(ddof=0), index=samples.columns)})\n",
    "df.plot(ylim=(6.5, 10.5))"
   ]
  },
  {
   "cell_type": "markdown",
   "metadata": {},
   "source": [
    "We can see that the biased estimator (dividing by $n$) is clearly not estimating the true population variance as accurately as the unbiased estimator (dividing by $n-1$). "
   ]
  },
  {
   "cell_type": "markdown",
   "metadata": {},
   "source": [
    "## Mathematical Proof"
   ]
  },
  {
   "cell_type": "markdown",
   "metadata": {},
   "source": [
    "To prove that dividing by $n - 1$ is an unbiased estimator, we need to show that expected value of the estimaor is indeed $\\sigma^2$:\n",
    "\\begin{equation}\n",
    "    E(s^2) = E\\left(\\frac{1}{n - 1} \\sum_{j=1}^{n} (X_j - \\bar{X})^2\\right) = \\sigma^2\n",
    "\\end{equation}"
   ]
  },
  {
   "cell_type": "markdown",
   "metadata": {},
   "source": [
    "First we'll need to recall a few basic properties of expectation and variance:\n",
    "\n",
    "\\begin{equation}\n",
    "\\left\\{\n",
    "\\begin{aligned}\n",
    "    & E(Z_1 + Z_2) = E(Z_1) + E(Z_2), \\text{ for any } Z_1, Z_2 \\\\\n",
    "    & \\text{Var}(a Z) = a^2 \\text{Var}(Z), \\text{ for any } Z \\\\\n",
    "    & \\text{Var}(Z_1 + Z_2) = \\text{Var}(Z_1) + \\text{Var}(Z_2), \\text{ if } Z_1 \\text{ and } Z_2 \\text{ are independent} \\\\\n",
    "\\end{aligned}\n",
    "\\right.\n",
    "\\end{equation}\n",
    "\n",
    "Also, the following is a useful form for variance:\n",
    "\\begin{equation}\n",
    "    \\text{Var}(Z) = E((Z - E(Z))^2) = E(Z^2 - 2ZE(Z) + E(Z)^2) = E(Z^2) - E(Z)^2\n",
    "\\end{equation}\n",
    "\n",
    "This is equivalent to\n",
    "\\begin{equation}\n",
    "    E(Z^2) = \\text{Var}(Z) + E(Z)^2\n",
    "\\end{equation}"
   ]
  },
  {
   "cell_type": "markdown",
   "metadata": {},
   "source": [
    "Using the above properties we can now simplify the expression for $E(s^2)$:\n",
    "\n",
    "\\begin{aligned}\n",
    "    E(s^2) = E\\left(\\frac{1}{n - 1} \\sum_{j=1}^{n} (X_j - \\bar{X})^2\\right) = & \\frac{1}{n - 1} E \\left( \\sum_{j=1}^{n} (X_j^2 - 2X_j\\bar{X} + \\bar{X}^2) \\right) \\\\\n",
    "    = & \\ \\frac{1}{n - 1} E \\left( \\sum_{j=1}^{n} X_j^2 - 2n\\bar{X}^2 + n\\bar{X}^2 \\right) \\\\\n",
    "    = & \\ \\frac{1}{n - 1} E \\left( \\sum_{j=1}^{n} X_j^2 - n\\bar{X}^2 \\right) \\\\\n",
    "    = & \\ \\frac{1}{n - 1} \\left[ E \\left( \\sum_{j=1}^{n} X_j^2 \\right) - E \\left( n\\bar{X}^2 \\right) \\right] \\\\\n",
    "    = & \\ \\frac{1}{n - 1} \\left[ \\sum_{j=1}^{n} E \\left( X_j^2 \\right) - n E \\left( \\bar{X}^2 \\right) \\right] \\\\\n",
    "\\end{aligned}"
   ]
  },
  {
   "cell_type": "markdown",
   "metadata": {},
   "source": [
    "Now notice that the first term can be simplied as:\n",
    "\n",
    "\\begin{aligned}\n",
    "    \\sum_{j=1}^{n} E \\left( X_j^2 \\right) = & \\sum_{j=1}^{n} \\left( Var(X_j) + E(X_j)^2 \\right) \\\\\n",
    "    = & \\sum_{j=1}^{n} \\left( \\sigma^2 + \\mu ^2 \\right) \\\\\n",
    "    = & \\ n \\sigma^2 + n \\mu ^2 \\\\\n",
    "\\end{aligned}\n",
    "\n",
    "Using the same trick, the second term becomes:\n",
    "\n",
    "\\begin{aligned}\n",
    "    E(\\bar{X}^2) = & \\ Var(\\bar{X}) + E(\\bar{X})^2 \\\\\n",
    "    = & Var(\\frac{1}{n} \\sum_{j=1}^{n} X_j) + \\mu ^2 \\\\\n",
    "    = & \\frac{1}{n^2} Var(\\sum_{j=1}^{n} X_j) + \\mu ^2 \\\\\n",
    "    = & \\frac{1}{n^2} \\sum_{j=1}^{n} Var(X_j) + \\mu ^2, \\text{ because all } X_j\\text{'s are independent} \\\\\n",
    "    = & \\frac{1}{n^2} n\\sigma^2 + \\mu ^2 \\\\\n",
    "    = & \\frac{1}{n} \\sigma^2 + \\mu ^2 \\\\\n",
    "\\end{aligned} "
   ]
  },
  {
   "cell_type": "markdown",
   "metadata": {},
   "source": [
    "Plugging the two terms back we finally get:\n",
    "\n",
    "\\begin{aligned}\n",
    "    E(s^2) = & \\ \\frac{1}{n-1} \\left[ \\sum_{j=1}^{n} E \\left( X_j^2 \\right) - n E \\left(\\bar{X}^2 \\right) \\right] \\\\\n",
    "    = & \\ \\frac{1}{n-1} \\left[n \\sigma^2 + n \\mu ^2 - n \\left( \\frac{1}{n} \\sigma^2 + \\mu ^2 \\right) \\right] \\\\\n",
    "    = & \\ \\frac{1}{n-1} \\left[n \\sigma^2 + n \\mu ^2 - \\sigma^2 - n \\mu ^2 \\right] \\\\\n",
    "    = & \\ \\sigma^2 \\\\\n",
    "\\end{aligned}\n",
    "\n",
    "Dividing by $n-1$ gives us an unbiased estimate for the population variance indeed!"
   ]
  },
  {
   "cell_type": "markdown",
   "metadata": {},
   "source": [
    "## Source of Bias"
   ]
  },
  {
   "cell_type": "markdown",
   "metadata": {},
   "source": [
    "One intuitive way to think about why the bias exists is to notice that we generally don't actually know the true population mean $\\mu$, and therefore the sample variance is being computed using the *estimated* mean $\\bar{X}$. However the quadratic form $\\sum_{j=1}^{n} (X_j - a)^2$ is actually minimized by $a = \\bar{X}$, which means that whatever the true population mean $\\mu$ is, we will always have\n",
    "\n",
    "\\begin{equation}\n",
    "    \\sum_{j=1}^{n} (X_j - \\mu)^2 \\geq \\sum_{j=1}^{n} (X_j - \\bar{X})^2\n",
    "\\end{equation}\n",
    "\n",
    "Therefore we are underestimating the true variance because we don't know the true mean."
   ]
  },
  {
   "cell_type": "markdown",
   "metadata": {},
   "source": [
    "In fact, we can see that we are underestimating by exactly $\\sigma^2$ on average:\n",
    "\n",
    "\\begin{aligned}\n",
    "    E\\left(\\sum_{j=1}^{n} (X_j - \\mu)^2\\right) = & \\ E \\left(\\sum_{j=1}^{n} (X_j - \\bar{X} + \\bar{X} - \\mu)^2\\right) \\\\\n",
    "    = & \\ E \\left(\\sum_{j=1}^{n} (X_j - \\bar{X})^2 + \\sum_{j=1}^{n} 2(X_j - \\bar{X})(\\bar{X} - \\mu) + \\sum_{j=1}^{n} (\\bar{X} - \\mu)^2 \\right) \\\\\n",
    "    = & \\ E \\left(\\sum_{j=1}^{n} (X_j - \\bar{X})^2 + \\sum_{j=1}^{n} (\\bar{X} - \\mu)^2 \\right) \\\\\n",
    "    = & \\ E \\left(\\sum_{j=1}^{n} (X_j - \\bar{X})^2 \\right) + E \\left(\\sum_{j=1}^{n} (\\bar{X} - \\mu)^2 \\right) \\\\\n",
    "    = & \\ E \\left(\\sum_{j=1}^{n} (X_j - \\bar{X})^2 \\right) + \\sum_{j=1}^{n} E \\left((\\bar{X} - \\mu)^2 \\right) \\\\\n",
    "    = & \\ E \\left(\\sum_{j=1}^{n} (X_j - \\bar{X})^2 \\right) + \\sum_{j=1}^{n} \\left( \\text{Var} (\\bar{X} - \\mu) + E (\\bar{X} - \\mu)^2 \\right) \\\\\n",
    "    = & \\ E \\left(\\sum_{j=1}^{n} (X_j - \\bar{X})^2 \\right) + \\sum_{j=1}^{n} \\left( \\text{Var} (\\bar{X}) + E (\\bar{X} - \\mu)^2 \\right) \\\\\n",
    "    = & \\ E \\left(\\sum_{j=1}^{n} (X_j - \\bar{X})^2 \\right) + \\sum_{j=1}^{n} \\text{Var} (\\bar{X}) \\\\\n",
    "    = & \\ E \\left(\\sum_{j=1}^{n} (X_j - \\bar{X})^2 \\right) + n \\text{Var} (\\bar{X}) \\\\\n",
    "    = & \\ E \\left(\\sum_{j=1}^{n} (X_j - \\bar{X})^2 \\right) + n \\text{Var} (\\frac{1}{n} \\sum_{j=1}^{n} X_j) \\\\\n",
    "    = & \\ E \\left(\\sum_{j=1}^{n} (X_j - \\bar{X})^2 \\right) + n \\frac{1}{n^2} \\sum_{j=1}^{n} \\text{Var} (X_j) \\\\\n",
    "    = & \\ E \\left(\\sum_{j=1}^{n} (X_j - \\bar{X})^2 \\right) + \\sigma^2 \\\\\n",
    "\\end{aligned}\n",
    "\n",
    "Combined with the result we have from the proof in the previous section, we can see that if we somehow *magically knew* the true mean $\\mu$, dividing by $n$ would be unbiased:\n",
    "\n",
    "\\begin{aligned}\n",
    "    E\\left(\\frac{1}{n} \\sum_{j=1}^{n} (X_j - \\mu)^2\\right) = & \\ \\frac{1}{n} E \\left(\\sum_{j=1}^{n} (X_j - \\mu)^2\\right) \\\\\n",
    "    = & \\ \\frac{1}{n} \\left[ E \\left(\\sum_{j=1}^{n} (X_j - \\bar{X})^2\\right) + \\sigma^2 \\right] \\\\\n",
    "        = & \\ \\frac{1}{n} \\left[ (n - 1) \\sigma^2 + \\sigma^2 \\right] \\\\\n",
    "    = & \\ \\sigma^2 \\\\\n",
    "\\end{aligned}\n",
    "\n",
    "However since we don't know the true mean and are using the estimated mean $\\bar{X}$ instead, we'd need to divide by $n - 1$ to correct for the bias. This is also known as [Bessel's correction](http://en.wikipedia.org/wiki/Bessel%27s_correction#Source_of_bias). \n"
   ]
  }
 ],
 "metadata": {
  "kernelspec": {
   "display_name": "Python 3",
   "language": "python",
   "name": "python3"
  },
  "language_info": {
   "codemirror_mode": {
    "name": "ipython",
    "version": 3
   },
   "file_extension": ".py",
   "mimetype": "text/x-python",
   "name": "python",
   "nbconvert_exporter": "python",
   "pygments_lexer": "ipython3",
   "version": "3.4.3"
  }
 },
 "nbformat": 4,
 "nbformat_minor": 0
}
