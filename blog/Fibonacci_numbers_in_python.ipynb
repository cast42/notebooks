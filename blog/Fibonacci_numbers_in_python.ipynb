{
 "cells": [
  {
   "cell_type": "markdown",
   "metadata": {},
   "source": [
    "## Fibonacci numbers"
   ]
  },
  {
   "cell_type": "markdown",
   "metadata": {},
   "source": [
    "The Fibonacci numbers are defined recursively by the following difference equation:\n",
    "\n",
    "\\begin{equation}\n",
    "\\left\\{\n",
    "\\begin{aligned}\n",
    "    F_{n} & = F_{n-1} + F_{n-2} \\\\\n",
    "    F_1 & = 1 \\\\\n",
    "    F_0 & = 0 \\\\\n",
    "\\end{aligned}\n",
    "\\right.\n",
    "\\end{equation}\n",
    "\n",
    "It is easy to compute the first few elements in the sequence:\n",
    "\n",
    "$0, 1, 1, 2, 3, 5, 8, 13, 21, 34 \\cdots $\n",
    "<!-- PELICAN_END_SUMMARY -->"
   ]
  },
  {
   "cell_type": "markdown",
   "metadata": {},
   "source": [
    "## Derivation of the general formula"
   ]
  },
  {
   "cell_type": "markdown",
   "metadata": {},
   "source": [
    "It is possible to derive a general formula for $F_n$ without computing all the previous numbers in the sequence. If a gemetric series (i.e. a series with a constant ratio between consecutive terms $r^n$) is to solve the difference equation, we must have\n",
    "\n",
    "\\begin{aligned}\n",
    "    r^n = r^{n-1} + r^{n-2} \\\\\n",
    "\\end{aligned}\n",
    "\n",
    "which is equivalent to\n",
    "\n",
    "\\begin{aligned}\n",
    "    r^2 = r + 1 \\\\\n",
    "\\end{aligned}\n",
    "\n",
    "This equation has two unique solutions\n",
    "\\begin{aligned}\n",
    "    \\varphi = & \\frac{1 + \\sqrt{5}}{2} \\approx 1.61803\\cdots \\\\\n",
    "    \\psi = & \\frac{1 - \\sqrt{5}}{2} = 1 - \\varphi = - {1 \\over \\varphi} \\approx -0.61803\\cdots \\\\\n",
    "\\end{aligned}\n",
    "\n",
    "In particular the larger root is known as the _golden ratio_\n",
    "\\begin{align}\n",
    "\\varphi = \\frac{1 + \\sqrt{5}}{2} \\approx 1.61803\\cdots\n",
    "\\end{align}\n",
    "\n",
    "Now, since both roots solve the difference equation for Fibonacci numbers, any linear combination of the two sequences also solves it\n",
    "\n",
    "\\begin{aligned}\n",
    "    a \\left(\\frac{1 + \\sqrt{5}}{2}\\right)^n + b \\left(\\frac{1 - \\sqrt{5}}{2}\\right)^n \\\\\n",
    "\\end{aligned}\n",
    "\n",
    "It's not hard to see that all Fibonacci numbers must be of this general form because we can uniquely solve for $a$ and $b$ such that the initial conditions of $F_1 = 1$ and $F_0 = 0$ are met\n",
    "\n",
    "\\begin{equation}\n",
    "\\left\\{\n",
    "\\begin{aligned}\n",
    "    F_0 = 0 = a \\left(\\frac{1 + \\sqrt{5}}{2}\\right)^0 + b \\left(\\frac{1 - \\sqrt{5}}{2}\\right)^0 \\\\\n",
    "    F_1 = 1 = a \\left(\\frac{1 + \\sqrt{5}}{2}\\right)^1 + b \\left(\\frac{1 - \\sqrt{5}}{2}\\right)^1 \\\\\n",
    "\\end{aligned}\n",
    "\\right.\n",
    "\\end{equation}\n",
    "\n",
    "yielding\n",
    "\n",
    "\\begin{equation}\n",
    "\\left\\{\n",
    "\\begin{aligned}\n",
    "    a = \\frac{1}{\\sqrt{5}} \\\\\n",
    "    b = \\frac{-1}{\\sqrt{5}} \\\\\n",
    "\\end{aligned}\n",
    "\\right.\n",
    "\\end{equation}\n",
    "\n",
    "We have therefore derived the general formula for the $n$-th Fibonacci number\n",
    "\n",
    "\\begin{aligned}\n",
    "    F_n = \\frac{1}{\\sqrt{5}} \\left(\\frac{1 + \\sqrt{5}}{2}\\right)^n - \\frac{1}{\\sqrt{5}} \\left(\\frac{1 - \\sqrt{5}}{2}\\right)^n \\\\\n",
    "\\end{aligned}"
   ]
  },
  {
   "cell_type": "markdown",
   "metadata": {},
   "source": [
    "Since the second term has an absolute value smaller than $1$, we can see that the ratios of Fibonacci numbers converge to the golden ratio\n",
    "\n",
    "\\begin{aligned}\n",
    "    \\lim_{n \\rightarrow \\infty} \\frac{F_n}{F_{n-1}} = \\frac{1 + \\sqrt{5}}{2}\n",
    "\\end{aligned}"
   ]
  },
  {
   "cell_type": "markdown",
   "metadata": {},
   "source": [
    "## Various implementations in Python"
   ]
  },
  {
   "cell_type": "markdown",
   "metadata": {},
   "source": [
    "Writing a function in Python that outputs the $n$-th Fibonacci number seems simple enough. However even in this simple case one should be aware of some of the computational subtleties in order to avoid common pitfalls and improve efficiency."
   ]
  },
  {
   "cell_type": "markdown",
   "metadata": {},
   "source": [
    "### Common pitfall #1: inefficient recursion"
   ]
  },
  {
   "cell_type": "markdown",
   "metadata": {},
   "source": [
    "Here's a very straight-forward recursive implementation "
   ]
  },
  {
   "cell_type": "code",
   "execution_count": 1,
   "metadata": {
    "collapsed": false
   },
   "outputs": [],
   "source": [
    "import math\n",
    "from __future__ import print_function"
   ]
  },
  {
   "cell_type": "code",
   "execution_count": 2,
   "metadata": {
    "collapsed": false
   },
   "outputs": [],
   "source": [
    "def fib_recursive(n):\n",
    "    if n == 0:\n",
    "        return 0\n",
    "    elif n == 1:\n",
    "        return 1\n",
    "    else:\n",
    "        return fib_recursive(n-1) + fib_recursive(n-2)"
   ]
  },
  {
   "cell_type": "code",
   "execution_count": 3,
   "metadata": {
    "collapsed": false
   },
   "outputs": [
    {
     "name": "stdout",
     "output_type": "stream",
     "text": [
      "[0, 1, 1, 2, 3, 5, 8, 13, 21, 34, 55, 89, 144, 233, 377, 610, 987, 1597, 2584, 4181]\n"
     ]
    }
   ],
   "source": [
    "print([fib_recursive(i) for i in range(20)])"
   ]
  },
  {
   "cell_type": "markdown",
   "metadata": {},
   "source": [
    "this seems to work fine, however the recursion overhead is actually very significant when $n$ is just slightly large. Here I'm computing $F_{34}$ and it takes more than 3 seconds! (on a 2013 model Macbook Air) "
   ]
  },
  {
   "cell_type": "code",
   "execution_count": 4,
   "metadata": {
    "collapsed": false
   },
   "outputs": [
    {
     "name": "stdout",
     "output_type": "stream",
     "text": [
      "1 loops, best of 3: 3.58 s per loop\n"
     ]
    }
   ],
   "source": [
    "%timeit fib_recursive(34)"
   ]
  },
  {
   "cell_type": "markdown",
   "metadata": {},
   "source": [
    "The overhead incurred by creating a large number of stack frames is tremendous. Python by default does not perform what's known as tail recursion elimination http://stackoverflow.com/questions/13543019/why-is-recursion-in-python-so-slow, and therefore this is a very inefficient implemenation. In contrast, if we have an iterative implementation, the speed is dramatically faster"
   ]
  },
  {
   "cell_type": "code",
   "execution_count": 5,
   "metadata": {
    "collapsed": false
   },
   "outputs": [],
   "source": [
    "def fib_iterative(n):\n",
    "    a, b = 0, 1\n",
    "    while n > 0:\n",
    "        a, b = b, a + b\n",
    "        n -= 1\n",
    "    return a"
   ]
  },
  {
   "cell_type": "code",
   "execution_count": 6,
   "metadata": {
    "collapsed": false
   },
   "outputs": [
    {
     "name": "stdout",
     "output_type": "stream",
     "text": [
      "100000 loops, best of 3: 4.59 µs per loop\n"
     ]
    }
   ],
   "source": [
    "%timeit fib_iterative(34)"
   ]
  },
  {
   "cell_type": "markdown",
   "metadata": {},
   "source": [
    "Now, let's see if we can make it even faster by eliminating the loop altogether and just go straight to the general formula we derived earlier"
   ]
  },
  {
   "cell_type": "code",
   "execution_count": 7,
   "metadata": {
    "collapsed": false
   },
   "outputs": [],
   "source": [
    "def fib_formula(n):\n",
    "    golden_ratio = (1 + math.sqrt(5)) / 2\n",
    "    val = (golden_ratio**n - (1 - golden_ratio)**n) / math.sqrt(5)\n",
    "    return int(round(val))"
   ]
  },
  {
   "cell_type": "code",
   "execution_count": 8,
   "metadata": {
    "collapsed": false
   },
   "outputs": [
    {
     "name": "stdout",
     "output_type": "stream",
     "text": [
      "1000000 loops, best of 3: 1.36 µs per loop\n"
     ]
    }
   ],
   "source": [
    "%timeit fib_formula(34)"
   ]
  },
  {
   "cell_type": "markdown",
   "metadata": {},
   "source": [
    "Even faster, great! And since we are not looping anymore, we should expect to see the computation time to scale better as $n$ increases. That's indeed what we see:"
   ]
  },
  {
   "cell_type": "code",
   "execution_count": 9,
   "metadata": {
    "collapsed": false
   },
   "outputs": [],
   "source": [
    "import pandas as pd\n",
    "import numpy as np"
   ]
  },
  {
   "cell_type": "code",
   "execution_count": 10,
   "metadata": {
    "collapsed": false
   },
   "outputs": [],
   "source": [
    "%matplotlib inline\n",
    "import matplotlib.pyplot as plt\n",
    "from IPython.core.pylabtools import figsize\n",
    "figsize(15, 5)"
   ]
  },
  {
   "cell_type": "code",
   "execution_count": 11,
   "metadata": {
    "collapsed": false
   },
   "outputs": [],
   "source": [
    "elapsed = {}\n",
    "elapsed['iterative'] = {}\n",
    "elapsed['formula'] = {}\n",
    "for i in range(34):\n",
    "    result = %timeit -n 10000 -q -o fib_iterative(i)\n",
    "    elapsed['iterative'][i] = result.best\n",
    "    result = %timeit -n 10000 -q -o fib_formula(i)\n",
    "    elapsed['formula'][i] = result.best"
   ]
  },
  {
   "cell_type": "code",
   "execution_count": 12,
   "metadata": {
    "collapsed": false
   },
   "outputs": [
    {
     "data": {
      "text/plain": [
       "<matplotlib.text.Text at 0x107c72ed0>"
      ]
     },
     "execution_count": 12,
     "metadata": {},
     "output_type": "execute_result"
    },
    {
     "data": {
      "image/png": "[encoded data removed]",
      "text/plain": [
       "<matplotlib.figure.Figure at 0x107c71350>"
      ]
     },
     "metadata": {},
     "output_type": "display_data"
    }
   ],
   "source": [
    "elapased_ms = pd.DataFrame(elapsed) * 1000\n",
    "elapased_ms.plot(title='time taken to compute the n-th Fibonaccis number')\n",
    "plt.ylabel('time taken (ms)')\n",
    "plt.xlabel('n')"
   ]
  },
  {
   "cell_type": "markdown",
   "metadata": {},
   "source": [
    "Indeed as we expect, the iterative approach scales linearly, while the formula approach is basically constant time."
   ]
  },
  {
   "cell_type": "markdown",
   "metadata": {},
   "source": [
    "However we need to be careful with using a numerical formula like this for getting integer results. "
   ]
  },
  {
   "cell_type": "markdown",
   "metadata": {},
   "source": [
    "### Common pitfall #2: numerical precision"
   ]
  },
  {
   "cell_type": "markdown",
   "metadata": {},
   "source": [
    "Here we compare the actual values obtained by `fib_iterative()` and `fib_formula()`. Notice that it does not take a very large `n` for us to run into numerical precision issues.\n",
    "\n",
    "When `n` is 71 we are starting to get different results from the two implementations!"
   ]
  },
  {
   "cell_type": "code",
   "execution_count": 13,
   "metadata": {
    "collapsed": false
   },
   "outputs": [
    {
     "data": {
      "text/html": [
       "<div style=\"max-height:1000px;max-width:1500px;overflow:auto;\">\n",
       "<table border=\"1\" class=\"dataframe\">\n",
       "  <thead>\n",
       "    <tr style=\"text-align: right;\">\n",
       "      <th></th>\n",
       "      <th>iterative</th>\n",
       "      <th>formula</th>\n",
       "      <th>diff</th>\n",
       "    </tr>\n",
       "    <tr>\n",
       "      <th>n-th Fibonacci</th>\n",
       "      <th></th>\n",
       "      <th></th>\n",
       "      <th></th>\n",
       "    </tr>\n",
       "  </thead>\n",
       "  <tbody>\n",
       "    <tr>\n",
       "      <th>68</th>\n",
       "      <td>   72723460248141</td>\n",
       "      <td>   72723460248141</td>\n",
       "      <td> 0</td>\n",
       "    </tr>\n",
       "    <tr>\n",
       "      <th>69</th>\n",
       "      <td>  117669030460994</td>\n",
       "      <td>  117669030460994</td>\n",
       "      <td> 0</td>\n",
       "    </tr>\n",
       "    <tr>\n",
       "      <th>70</th>\n",
       "      <td>  190392490709135</td>\n",
       "      <td>  190392490709135</td>\n",
       "      <td> 0</td>\n",
       "    </tr>\n",
       "    <tr>\n",
       "      <th>71</th>\n",
       "      <td>  308061521170129</td>\n",
       "      <td>  308061521170130</td>\n",
       "      <td> 1</td>\n",
       "    </tr>\n",
       "    <tr>\n",
       "      <th>72</th>\n",
       "      <td>  498454011879264</td>\n",
       "      <td>  498454011879265</td>\n",
       "      <td> 1</td>\n",
       "    </tr>\n",
       "    <tr>\n",
       "      <th>73</th>\n",
       "      <td>  806515533049393</td>\n",
       "      <td>  806515533049395</td>\n",
       "      <td> 2</td>\n",
       "    </tr>\n",
       "    <tr>\n",
       "      <th>74</th>\n",
       "      <td> 1304969544928657</td>\n",
       "      <td> 1304969544928660</td>\n",
       "      <td> 3</td>\n",
       "    </tr>\n",
       "  </tbody>\n",
       "</table>\n",
       "</div>"
      ],
      "text/plain": [
       "                       iterative           formula  diff\n",
       "n-th Fibonacci                                          \n",
       "68                72723460248141    72723460248141     0\n",
       "69               117669030460994   117669030460994     0\n",
       "70               190392490709135   190392490709135     0\n",
       "71               308061521170129   308061521170130     1\n",
       "72               498454011879264   498454011879265     1\n",
       "73               806515533049393   806515533049395     2\n",
       "74              1304969544928657  1304969544928660     3"
      ]
     },
     "execution_count": 13,
     "metadata": {},
     "output_type": "execute_result"
    }
   ],
   "source": [
    "df = {}\n",
    "df['iterative'] = {}\n",
    "df['formula'] = {}\n",
    "df['diff'] = {}\n",
    "\n",
    "for i in range(100):\n",
    "    df['iterative'][i] = fib_iterative(i)\n",
    "    df['formula'][i] = fib_formula(i)\n",
    "    df['diff'][i] = df['formula'][i] - df['iterative'][i]\n",
    "df = pd.DataFrame(df, columns=['iterative', 'formula', 'diff'])\n",
    "df.index.name = 'n-th Fibonacci'\n",
    "df.ix[68:74]"
   ]
  },
  {
   "cell_type": "markdown",
   "metadata": {},
   "source": [
    "You can see that `fib_iterative()` produces the correct result by eyeballing the sum of $F_{69}$ and $F_{70}$, while `fib_formual()` starts to have precision errors as the number gets larger. So, be mindful with precision issues when doing numerical computing. Here's a nice article on this topic http://www.codeproject.com/Articles/25294/Avoiding-Overflow-Underflow-and-Loss-of-Precision"
   ]
  },
  {
   "cell_type": "markdown",
   "metadata": {},
   "source": [
    "Also notice that unlike C/C++, in Python there's technically no limit in the precision of its integer representation. In Python 2 any overflowing operation on `int` is automatically converted into `long`, and `long` has arbitrary precision. In Python 3 it is just `int`. More information on Python's arbitrary-precision integers can be found here  http://stackoverflow.com/questions/9860588/maximum-value-for-long-integer"
   ]
  }
 ],
 "metadata": {
  "kernelspec": {
   "display_name": "Python 3",
   "language": "python",
   "name": "python3"
  },
  "language_info": {
   "codemirror_mode": {
    "name": "ipython",
    "version": 3
   },
   "file_extension": ".py",
   "mimetype": "text/x-python",
   "name": "python",
   "nbconvert_exporter": "python",
   "pygments_lexer": "ipython3",
   "version": "3.4.3"
  }
 },
 "nbformat": 4,
 "nbformat_minor": 0
}
